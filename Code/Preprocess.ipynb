{
  "nbformat": 4,
  "nbformat_minor": 0,
  "metadata": {
    "colab": {
      "provenance": [],
      "gpuType": "T4"
    },
    "kernelspec": {
      "name": "python3",
      "display_name": "Python 3"
    },
    "language_info": {
      "name": "python"
    },
    "accelerator": "GPU"
  },
  "cells": [
    {
      "cell_type": "code",
      "execution_count": 1,
      "metadata": {
        "colab": {
          "base_uri": "https://localhost:8080/"
        },
        "id": "RjRhWlv89FI8",
        "outputId": "4993538f-3c42-4363-b24e-f18eeba13d2b"
      },
      "outputs": [
        {
          "output_type": "stream",
          "name": "stdout",
          "text": [
            "Mounted at /content/drive\n"
          ]
        }
      ],
      "source": [
        "from google.colab import drive\n",
        "drive.mount('/content/drive')"
      ]
    },
    {
      "cell_type": "code",
      "source": [
        "import cv2\n",
        "from pathlib import Path\n"
      ],
      "metadata": {
        "id": "fj83_CXv9VBX"
      },
      "execution_count": 2,
      "outputs": []
    },
    {
      "cell_type": "code",
      "source": [
        "input_dir = Path(r\"/content/drive/MyDrive/Gadulla/Cleaned data\")\n",
        "output_dir = Path(r\"best_resoulution_images\")\n",
        "output_dir.mkdir(exist_ok=True)\n",
        "print(\"Done\")"
      ],
      "metadata": {
        "colab": {
          "base_uri": "https://localhost:8080/"
        },
        "id": "VtG5jFmD9bGa",
        "outputId": "90772d0a-4b78-4901-cac8-ce963d758d88"
      },
      "execution_count": 3,
      "outputs": [
        {
          "output_type": "stream",
          "name": "stdout",
          "text": [
            "Done\n"
          ]
        }
      ]
    },
    {
      "cell_type": "code",
      "source": [
        "TARGET_SIZE = (2400, 1100)"
      ],
      "metadata": {
        "id": "BK5BpZe49nBp"
      },
      "execution_count": 4,
      "outputs": []
    },
    {
      "cell_type": "code",
      "source": [
        "for img_path in input_dir.glob(\"*\"):\n",
        "    img = cv2.imread(str(img_path))\n",
        "    if img is None:\n",
        "        print(f\"Could not read {img_path.name}\")\n",
        "        continue\n",
        "\n",
        "    resized = cv2.resize(img, TARGET_SIZE, interpolation=cv2.INTER_AREA)\n",
        "    out_path = output_dir / img_path.name\n",
        "    cv2.imwrite(str(out_path), resized)\n",
        "print(\"All images resized.\")"
      ],
      "metadata": {
        "colab": {
          "base_uri": "https://localhost:8080/"
        },
        "id": "OAXzhOgG9qGq",
        "outputId": "99c24d2c-15cb-4d8a-8ffd-9dd17a0819c1"
      },
      "execution_count": 5,
      "outputs": [
        {
          "output_type": "stream",
          "name": "stdout",
          "text": [
            "All images resized.\n"
          ]
        }
      ]
    },
    {
      "cell_type": "code",
      "source": [
        "input_folder = Path(r\"best_resoulution_images\")"
      ],
      "metadata": {
        "id": "KjXnMwzv9vFp"
      },
      "execution_count": 6,
      "outputs": []
    },
    {
      "cell_type": "code",
      "source": [
        "# Do not change Shivanshu\n",
        "crop_regions = {\n",
        "    \"date\": (1766, 66, 2342, 192),\n",
        "    \"payee\": (66, 198, 2106, 120),\n",
        "    \"amount_words\":  (68, 298, 2300, 210),\n",
        "    \"amount_digits\": (1700, 360, 500, 160)\n",
        "}"
      ],
      "metadata": {
        "id": "pXVqmaNv9xYh"
      },
      "execution_count": 7,
      "outputs": []
    },
    {
      "cell_type": "code",
      "source": [
        "output_base = Path(r\"cropped_fields\")\n",
        "for field in crop_regions:\n",
        "    (output_base / field).mkdir(parents=True, exist_ok=True)"
      ],
      "metadata": {
        "id": "tGnWlmfL9zOP"
      },
      "execution_count": 8,
      "outputs": []
    },
    {
      "cell_type": "code",
      "source": [
        "image_extensions = [\".jpg\", \".jpeg\", \".png\"]\n",
        "image_paths = [p for p in input_folder.glob(\"*\") if p.suffix.lower() in image_extensions]\n",
        "print(f\"Found {len(image_paths)} images to crop.\")"
      ],
      "metadata": {
        "colab": {
          "base_uri": "https://localhost:8080/"
        },
        "id": "8RXuekVq92gZ",
        "outputId": "5ba2f7fd-57d3-46fd-aa19-f3c9b270c5d2"
      },
      "execution_count": 9,
      "outputs": [
        {
          "output_type": "stream",
          "name": "stdout",
          "text": [
            "Found 3633 images to crop.\n"
          ]
        }
      ]
    },
    {
      "cell_type": "code",
      "source": [
        "for img_path in image_paths:\n",
        "    img = cv2.imread(str(img_path))\n",
        "    if img is None:\n",
        "        print(f\"Could not read image: {img_path}\")\n",
        "        continue\n",
        "\n",
        "    basename = img_path.stem\n",
        "\n",
        "    for field, (x, y, w, h) in crop_regions.items():\n",
        "        crop = img[y:y+h, x:x+w]\n",
        "        crop_path = output_base / field / f\"{basename}_{field}.jpg\"\n",
        "        cv2.imwrite(str(crop_path), crop)\n",
        "print(\"All fields cropped and saved into their respective folders.\")"
      ],
      "metadata": {
        "colab": {
          "base_uri": "https://localhost:8080/"
        },
        "id": "xjF5-R_G94BP",
        "outputId": "baf46e07-cabf-4ef0-b0a1-2012272d29cb"
      },
      "execution_count": 10,
      "outputs": [
        {
          "output_type": "stream",
          "name": "stdout",
          "text": [
            "All fields cropped and saved into their respective folders.\n"
          ]
        }
      ]
    },
    {
      "cell_type": "markdown",
      "source": [
        "# Whited rectangle mask code"
      ],
      "metadata": {
        "id": "HoLiz8V-994d"
      }
    },
    {
      "cell_type": "code",
      "source": [
        "input_folder = Path(r\"cropped_fields\\payee\")\n",
        "output_folder = Path(r\"whited_payee\")\n",
        "output_folder.mkdir(parents=True, exist_ok=True)"
      ],
      "metadata": {
        "id": "Ebi3e2ap97-x"
      },
      "execution_count": 11,
      "outputs": []
    },
    {
      "cell_type": "code",
      "source": [
        "# I have updated it Amrit\n",
        "whiteout_regions = [\n",
        "    (2, 0, 78, 118),\n",
        "    (8, 104, 2096, 124),\n",
        "    (2096, 0, 2036, 120),\n",
        "    (48, 46, 104, 92),\n",
        "    (2044, 36, 2096, 82)\n",
        "]"
      ],
      "metadata": {
        "id": "q-Z2JXsC-E2t"
      },
      "execution_count": 12,
      "outputs": []
    },
    {
      "cell_type": "code",
      "source": [
        "image_extensions = [\".jpg\", \".jpeg\", \".png\"]\n",
        "for img_path in input_folder.glob(\"*\"):\n",
        "    if img_path.suffix.lower() not in image_extensions:\n",
        "        continue\n",
        "\n",
        "    img = cv2.imread(str(img_path))\n",
        "    if img is None:\n",
        "        print(f\"⚠️ Skipping unreadable image: {img_path.name}\")\n",
        "        continue\n",
        "    for (x1, y1, x2, y2) in whiteout_regions:\n",
        "        cv2.rectangle(img, (x1, y1), (x2, y2), (255, 255, 255), -1)  # white fill\n",
        "\n",
        "    # Save the result\n",
        "    output_path = output_folder / img_path.name\n",
        "    cv2.imwrite(str(output_path), img)\n",
        "print(\"Whiteout complete\", output_folder)"
      ],
      "metadata": {
        "colab": {
          "base_uri": "https://localhost:8080/"
        },
        "id": "Yj1bctGh-HbI",
        "outputId": "0649f9ca-5852-4666-86bd-6606692c8763"
      },
      "execution_count": 13,
      "outputs": [
        {
          "output_type": "stream",
          "name": "stdout",
          "text": [
            "Whiteout complete whited_payee\n"
          ]
        }
      ]
    }
  ]
}