{
 "cells": [
  {
   "cell_type": "code",
   "execution_count": null,
   "id": "8646d778",
   "metadata": {},
   "outputs": [],
   "source": [
    "import os\n",
    "import json\n",
    "import re\n",
    "from pathlib import Path\n",
    "from tkinter import Tk, Label, Button, Entry, filedialog\n",
    "from PIL import Image, ImageTk"
   ]
  },
  {
   "cell_type": "markdown",
   "id": "6968994d",
   "metadata": {},
   "source": [
    "# Labels for each section(you have to define each section)"
   ]
  },
  {
   "cell_type": "code",
   "execution_count": null,
   "id": "e4d6d791",
   "metadata": {},
   "outputs": [],
   "source": [
    "IMAGE_FOLDER = Path(r\"Final_Cropp_Image\\whited_amount_digits\")\n",
    "JSON_PATH = IMAGE_FOLDER.parent / \"amount_digits_labels.json\""
   ]
  },
  {
   "cell_type": "code",
   "execution_count": null,
   "id": "86365d1e",
   "metadata": {},
   "outputs": [],
   "source": [
    "if JSON_PATH.exists():  # Extisting labels will load(important)\n",
    "    with open(JSON_PATH, \"r\", encoding=\"utf-8\") as f:\n",
    "        data = json.load(f)\n",
    "else:\n",
    "    data = []"
   ]
  },
  {
   "cell_type": "code",
   "execution_count": null,
   "id": "7b261afc",
   "metadata": {},
   "outputs": [],
   "source": [
    "def extract_number(f): #image path to sort numerically\n",
    "    match = re.search(r\"check(\\d+)\", f.stem)\n",
    "    return int(match.group(1)) if match else float('inf')"
   ]
  },
  {
   "cell_type": "code",
   "execution_count": null,
   "id": "55cf2c15",
   "metadata": {},
   "outputs": [],
   "source": [
    "image_files = sorted([f for f in IMAGE_FOLDER.glob(\"*.jpg\")], key=extract_number)"
   ]
  },
  {
   "cell_type": "markdown",
   "id": "c068e1e0",
   "metadata": {},
   "source": [
    "### resume point"
   ]
  },
  {
   "cell_type": "code",
   "execution_count": null,
   "id": "0c8dcd92",
   "metadata": {},
   "outputs": [],
   "source": [
    "completed = {entry['image'] for entry in data}\n",
    "remaining = [f for f in image_files if f.name not in completed]"
   ]
  },
  {
   "cell_type": "code",
   "execution_count": null,
   "id": "bbf8db72",
   "metadata": {},
   "outputs": [],
   "source": [
    "class LabelTool:\n",
    "    def __init__(self, master):\n",
    "        self.master = master\n",
    "        self.index = 0\n",
    "        self.current_image = None\n",
    "        self.label_text = Entry(master, width=50)\n",
    "\n",
    "        self.image_label = Label(master)\n",
    "        self.image_label.pack(pady=10)\n",
    "\n",
    "        self.label_text.pack(pady=5)\n",
    "        self.label_text.bind(\"<Return>\", self.save_label_event)  # Bind Enter key\n",
    "\n",
    "        self.save_button = Button(master, text=\"Save\", command=self.save_label)\n",
    "        self.save_button.pack()\n",
    "\n",
    "        self.status = Label(master, text=\"\")\n",
    "        self.status.pack(pady=5)\n",
    "\n",
    "        self.load_image()\n",
    "\n",
    "    def load_image(self):\n",
    "        if self.index >= len(remaining):\n",
    "            self.status.config(text=\"All images labeled.\")\n",
    "            return\n",
    "\n",
    "        path = remaining[self.index]\n",
    "        self.current_image = path\n",
    "\n",
    "        img = Image.open(path).convert(\"RGB\")\n",
    "        img = img.resize((700, 200))  # Resize for display\n",
    "        img_tk = ImageTk.PhotoImage(img)\n",
    "\n",
    "        self.image_label.config(image=img_tk)\n",
    "        self.image_label.image = img_tk\n",
    "        self.status.config(text=f\"Image {self.index + 1} of {len(remaining)}: {path.name}\")\n",
    "        self.label_text.delete(0, 'end')\n",
    "\n",
    "    def save_label(self):\n",
    "        label = self.label_text.get().strip()\n",
    "        if label:\n",
    "            data.append({\"image\": self.current_image.name, \"text\": label})\n",
    "            with open(JSON_PATH, \"w\", encoding=\"utf-8\") as f:\n",
    "                json.dump(data, f, indent=2)\n",
    "            self.index += 1\n",
    "            self.load_image()\n",
    "\n",
    "    def save_label_event(self, event):\n",
    "        self.save_label()\n",
    "\n",
    "#  GUI Launching\n",
    "root = Tk()\n",
    "root.title(\"Amount Digits Labeling Tool\")\n",
    "app = LabelTool(root)\n",
    "root.mainloop()"
   ]
  },
  {
   "cell_type": "markdown",
   "id": "d83a5af7",
   "metadata": {},
   "source": [
    "# for date \n",
    "add this fucntion for formating amrit\n",
    "\n",
    "    def format_date(self, raw):\n",
    "        if len(raw) == 8 and raw.isdigit():\n",
    "            return f\"{raw[:2]}/{raw[2:4]}/{raw[4:]}\"\n",
    "        return raw"
   ]
  },
  {
   "cell_type": "markdown",
   "id": "b392de5e",
   "metadata": {},
   "source": []
  },
  {
   "cell_type": "markdown",
   "id": "03c09ed4",
   "metadata": {},
   "source": [
    "# Label and folder cleaning"
   ]
  },
  {
   "cell_type": "code",
   "execution_count": null,
   "id": "6da1f607",
   "metadata": {},
   "outputs": [],
   "source": [
    "IMAGE_FOLDER = Path(r\"Final_Cropp_Image\\whited_amount_words\")\n",
    "JSON_PATH = IMAGE_FOLDER.parent / \"amount_words_labels.json\""
   ]
  },
  {
   "cell_type": "markdown",
   "id": "a77c4e11",
   "metadata": {},
   "source": [
    "## add cheques numbers which have null value"
   ]
  },
  {
   "cell_type": "code",
   "execution_count": null,
   "id": "fb2fc1e1",
   "metadata": {},
   "outputs": [],
   "source": [
    "cheque_numbers = [\n",
    "    1, 728, 737, 813, 876, 877, 928, 953, 960, 990, 1024, 1039, 1053, 1057, 1064, 1066,\n",
    "    1087, 1173, 1182, 1197, 1299, 1304, 1330, 1339, 1355, 1371, 1377, 1378, 1422, 1429,\n",
    "    1459, 1474, 1484, 1510, 1607, 1619, 1616, 1617, 770, 1623, 1628, 1692, 1695, 1719,\n",
    "    1725, 1726, 1730, 1738, 1739, 1744, 1751, 1753, 1763, 1764, 1765, 1776, 1832, 1860,\n",
    "    1875, 1904, 1952, 1971, 1974, 2171, 2187, 2210, 2246, 2264, 2278, 2321, 2358, 2366,\n",
    "    2368, 2448, 2542, 2563, 2581, 2595, 2619, 2663, 2695, 2760, 2778, 2793, 2829, 3017,\n",
    "    3018, 3026, 3027, 3040, 3041, 3051, 3053, 3054, 3055, 3060, 3062, 3081, 3087, 3103,\n",
    "    3014, 3108, 3140, 3147, 3149, 3151, 3155, 3160, 3167, 3182, 3188, 3195, 3210, 3251,\n",
    "    3240, 3241, 3276, 3307, 3311, 3362, 3363, 3372, 3373, 3381, 3383, 3384, 3387, 3391,\n",
    "    3421, 3429, 3468, 3519, 3520, 3542, 3556, 3572, 3616, 3627, 3629, 3632, 40, 44, 67,\n",
    "    85, 100, 196, 216, 218, 237, 290, 295, 310, 327, 383, 446, 495, 532, 569, 573, 596,\n",
    "    600, 608, 637, 643, 657, 663, 673, 698\n",
    "]"
   ]
  },
  {
   "cell_type": "code",
   "execution_count": null,
   "id": "e0a15088",
   "metadata": {},
   "outputs": [],
   "source": [
    "image_names = [f\"check{num}_amount_words.jpg\" for num in cheque_numbers]"
   ]
  },
  {
   "cell_type": "code",
   "execution_count": null,
   "id": "6063ba12",
   "metadata": {},
   "outputs": [],
   "source": [
    "for name in image_names:\n",
    "    img_path = IMAGE_FOLDER / name\n",
    "    if img_path.exists():\n",
    "        os.remove(img_path)\n",
    "        deleted += 1\n",
    "print(f\"Deleted {deleted} image(s) from folder.\")\n",
    "\n",
    "#Updating JSON by filtering out entries\n",
    "with open(JSON_PATH, \"r\", encoding=\"utf-8\") as f:\n",
    "    data = json.load(f)\n",
    "filtered_data = [entry for entry in data if entry[\"image\"] not in image_names]\n",
    "\n",
    "with open(JSON_PATH, \"w\", encoding=\"utf-8\") as f:\n",
    "    json.dump(filtered_data, f, indent=2)\n",
    "\n",
    "print(f\"JSON updated. Removed {len(data) - len(filtered_data)} entry(ies).\")"
   ]
  }
 ],
 "metadata": {
  "language_info": {
   "name": "python"
  }
 },
 "nbformat": 4,
 "nbformat_minor": 5
}
